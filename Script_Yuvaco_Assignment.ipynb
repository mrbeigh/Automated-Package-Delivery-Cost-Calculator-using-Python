{
  "nbformat": 4,
  "nbformat_minor": 0,
  "metadata": {
    "colab": {
      "provenance": [],
      "mount_file_id": "1AAA9VLcJrJszJ9_x4_YmXMsmbbdQYBPC",
      "authorship_tag": "ABX9TyM+2F/mm9A5UFbE5Y4Y9YLL",
      "include_colab_link": true
    },
    "kernelspec": {
      "name": "python3",
      "display_name": "Python 3"
    },
    "language_info": {
      "name": "python"
    }
  },
  "cells": [
    {
      "cell_type": "markdown",
      "metadata": {
        "id": "view-in-github",
        "colab_type": "text"
      },
      "source": [
        "<a href=\"https://colab.research.google.com/github/mrbeigh/Automated-Package-Delivery-Cost-Calculator-using-Python/blob/main/Script_Yuvaco_Assignment.ipynb\" target=\"_parent\"><img src=\"https://colab.research.google.com/assets/colab-badge.svg\" alt=\"Open In Colab\"/></a>"
      ]
    },
    {
      "cell_type": "code",
      "source": [
        "import pandas as pd\n",
        "\n",
        "# Read the CSV data into a DataFrame\n",
        "df = pd.read_csv(\"/content/drive/MyDrive/Code Playground/automated_package_calculator-python/sample_data.csv\")\n",
        "\n",
        "def calculate_delivery_cost(weight, distance, cost_grid):\n",
        "    base_cost = cost_grid['base_cost']\n",
        "    cost_per_kg = cost_grid['cost_per_kg']\n",
        "    cost_per_km = cost_grid['cost_per_km']\n",
        "\n",
        "    total_cost = base_cost + weight * cost_per_kg + distance * cost_per_km\n",
        "    return total_cost\n",
        "\n",
        "# Define your cost grid as a dictionary\n",
        "cost_grid = {\n",
        "    'Express': {\n",
        "        'base_cost': 10.00,\n",
        "        'cost_per_kg': 2.00,\n",
        "        'cost_per_km': 1.00,\n",
        "    },\n",
        "    'Standard': {\n",
        "        'base_cost': 5.00,\n",
        "        'cost_per_kg': 1.50,\n",
        "        'cost_per_km': 0.50,\n",
        "    }\n",
        "}\n",
        "\n",
        "# Assuming 'Delivery type' is a column in your CSV file\n",
        "for index, row in df.iterrows():\n",
        "    package_id = row['Package ID']\n",
        "    weight = row['Weight (kg)']\n",
        "    distance = row['Distance (km)']\n",
        "    delivery_type = row['Delivery Type']\n",
        "\n",
        "    # Get the appropriate cost grid based on the delivery type\n",
        "    cost_grid_for_type = cost_grid.get(delivery_type)\n",
        "\n",
        "    if cost_grid_for_type is not None:\n",
        "        cost = calculate_delivery_cost(weight, distance, cost_grid_for_type)\n",
        "        print(f\"The cost of delivery for Package ID {package_id} is ${cost:.2f}\")\n",
        "    else:\n",
        "        print(f\"No cost grid found for Delivery type '{delivery_type}' for Package ID {package_id}\")\n"
      ],
      "metadata": {
        "id": "tI-2Pov2W44e",
        "colab": {
          "base_uri": "https://localhost:8080/"
        },
        "outputId": "a2073724-525a-4b76-fbb1-c135cab2b4ce"
      },
      "execution_count": null,
      "outputs": [
        {
          "output_type": "stream",
          "name": "stdout",
          "text": [
            "The cost of delivery for Package ID 1 is $26.00\n",
            "The cost of delivery for Package ID 2 is $25.00\n",
            "The cost of delivery for Package ID 3 is $19.00\n",
            "The cost of delivery for Package ID 4 is $21.50\n",
            "The cost of delivery for Package ID 5 is $48.00\n"
          ]
        }
      ]
    }
  ]
}